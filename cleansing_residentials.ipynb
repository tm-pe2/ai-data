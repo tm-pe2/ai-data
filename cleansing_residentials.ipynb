{
 "cells": [
  {
   "cell_type": "markdown",
   "id": "b385f4f9",
   "metadata": {},
   "source": [
    "# Cleaning Residentials Data\n",
    "[Data Source](https://dataverse.harvard.edu/dataset.xhtml?persistentId=doi:10.7910/DVN/N3HGRN)"
   ]
  },
  {
   "cell_type": "code",
   "execution_count": 1,
   "id": "56af1ad9",
   "metadata": {},
   "outputs": [],
   "source": [
    "import pandas as pd\n",
    "import numpy as np\n",
    "import matplotlib.pyplot as plt\n",
    "import glob"
   ]
  },
  {
   "cell_type": "code",
   "execution_count": 2,
   "id": "59d0993c",
   "metadata": {},
   "outputs": [
    {
     "name": "stdout",
     "output_type": "stream",
     "text": [
      "Amount of different files: 28\n"
     ]
    }
   ],
   "source": [
    "# Data source location\n",
    "files = glob.glob('./household_power_consumption/dataverse_files/Residential_*.csv')\n",
    "\n",
    "# split dataset in different dataframes\n",
    "# each file is a residential\n",
    "residentials = [pd.read_csv(f, sep=',', low_memory=False) for f in files]\n",
    "\n",
    "print('Amount of different files: ' + str(len(residentials)))"
   ]
  },
  {
   "cell_type": "code",
   "execution_count": 3,
   "id": "384a2bd3",
   "metadata": {},
   "outputs": [
    {
     "data": {
      "text/html": [
       "<div>\n",
       "<style scoped>\n",
       "    .dataframe tbody tr th:only-of-type {\n",
       "        vertical-align: middle;\n",
       "    }\n",
       "\n",
       "    .dataframe tbody tr th {\n",
       "        vertical-align: top;\n",
       "    }\n",
       "\n",
       "    .dataframe thead th {\n",
       "        text-align: right;\n",
       "    }\n",
       "</style>\n",
       "<table border=\"1\" class=\"dataframe\">\n",
       "  <thead>\n",
       "    <tr style=\"text-align: right;\">\n",
       "      <th></th>\n",
       "      <th>date</th>\n",
       "      <th>hour</th>\n",
       "      <th>energy_kWh</th>\n",
       "    </tr>\n",
       "  </thead>\n",
       "  <tbody>\n",
       "    <tr>\n",
       "      <th>0</th>\n",
       "      <td>2015-05-01</td>\n",
       "      <td>0</td>\n",
       "      <td>0.35</td>\n",
       "    </tr>\n",
       "    <tr>\n",
       "      <th>1</th>\n",
       "      <td>2015-05-01</td>\n",
       "      <td>1</td>\n",
       "      <td>0.32</td>\n",
       "    </tr>\n",
       "    <tr>\n",
       "      <th>2</th>\n",
       "      <td>2015-05-01</td>\n",
       "      <td>2</td>\n",
       "      <td>0.31</td>\n",
       "    </tr>\n",
       "    <tr>\n",
       "      <th>3</th>\n",
       "      <td>2015-05-01</td>\n",
       "      <td>3</td>\n",
       "      <td>0.33</td>\n",
       "    </tr>\n",
       "    <tr>\n",
       "      <th>4</th>\n",
       "      <td>2015-05-01</td>\n",
       "      <td>4</td>\n",
       "      <td>0.30</td>\n",
       "    </tr>\n",
       "  </tbody>\n",
       "</table>\n",
       "</div>"
      ],
      "text/plain": [
       "         date  hour  energy_kWh\n",
       "0  2015-05-01     0        0.35\n",
       "1  2015-05-01     1        0.32\n",
       "2  2015-05-01     2        0.31\n",
       "3  2015-05-01     3        0.33\n",
       "4  2015-05-01     4        0.30"
      ]
     },
     "execution_count": 3,
     "metadata": {},
     "output_type": "execute_result"
    }
   ],
   "source": [
    "residentials[0].head()"
   ]
  },
  {
   "cell_type": "code",
   "execution_count": 4,
   "id": "976aa94d",
   "metadata": {},
   "outputs": [
    {
     "name": "stdout",
     "output_type": "stream",
     "text": [
      "Amount of rows: 616055\n",
      "Amount of columns: 3\n"
     ]
    }
   ],
   "source": [
    "total = 0\n",
    "\n",
    "for residential in residentials:\n",
    "    total += len(residential)\n",
    "    \n",
    "print(\"Amount of rows: \" + str(total))\n",
    "print(\"Amount of columns: \" + str(len(residentials[0].columns)))"
   ]
  },
  {
   "cell_type": "code",
   "execution_count": 5,
   "id": "931f76f3",
   "metadata": {},
   "outputs": [
    {
     "name": "stdout",
     "output_type": "stream",
     "text": [
      "<class 'pandas.core.frame.DataFrame'>\n",
      "RangeIndex: 24673 entries, 0 to 24672\n",
      "Data columns (total 3 columns):\n",
      " #   Column      Non-Null Count  Dtype  \n",
      "---  ------      --------------  -----  \n",
      " 0   date        24673 non-null  object \n",
      " 1   hour        24673 non-null  int64  \n",
      " 2   energy_kWh  24564 non-null  float64\n",
      "dtypes: float64(1), int64(1), object(1)\n",
      "memory usage: 578.4+ KB\n"
     ]
    }
   ],
   "source": [
    "residentials[0].info()"
   ]
  },
  {
   "cell_type": "code",
   "execution_count": 6,
   "id": "79da37fd",
   "metadata": {},
   "outputs": [
    {
     "name": "stdout",
     "output_type": "stream",
     "text": [
      "<class 'pandas.core.frame.DataFrame'>\n",
      "RangeIndex: 24673 entries, 0 to 24672\n",
      "Data columns (total 3 columns):\n",
      " #   Column      Non-Null Count  Dtype         \n",
      "---  ------      --------------  -----         \n",
      " 0   date        24673 non-null  datetime64[ns]\n",
      " 1   hour        24673 non-null  int64         \n",
      " 2   energy_kWh  24564 non-null  float64       \n",
      "dtypes: datetime64[ns](1), float64(1), int64(1)\n",
      "memory usage: 578.4 KB\n"
     ]
    }
   ],
   "source": [
    "# convert date to datetime type\n",
    "for residential in residentials:\n",
    "    residential['date'] = pd.to_datetime(residential['date'])\n",
    "    \n",
    "residentials[0].info()"
   ]
  },
  {
   "cell_type": "code",
   "execution_count": 7,
   "id": "b07f6e24",
   "metadata": {},
   "outputs": [
    {
     "data": {
      "image/png": "[encoded data removed]",
      "text/plain": [
       "<Figure size 864x720 with 5 Axes>"
      ]
     },
     "metadata": {
      "needs_background": "light"
     },
     "output_type": "display_data"
    }
   ],
   "source": [
    "plt.figure(figsize=(12,10))\n",
    "\n",
    "# visualise data per day for 5 household\n",
    "for x in range(5):\n",
    "    ax = plt.subplot(5, 1, 1+x)\n",
    "    plt.plot(residentials[x]['date'], residentials[x]['energy_kWh'])\n",
    "    plt.title('residential: '+str(x+1), y=0)\n",
    "plt.show()\n",
    "\n",
    "# some missing data for the residentials"
   ]
  },
  {
   "cell_type": "code",
   "execution_count": 8,
   "id": "3b506039",
   "metadata": {},
   "outputs": [
    {
     "name": "stdout",
     "output_type": "stream",
     "text": [
      "Total missing values: 5037\n"
     ]
    }
   ],
   "source": [
    "total = 0\n",
    "\n",
    "for residential in residentials:\n",
    "    total += residential['energy_kWh'].isnull().sum()\n",
    "\n",
    "print(f'Total missing values: {total}')"
   ]
  },
  {
   "cell_type": "code",
   "execution_count": 9,
   "id": "b0e91c48",
   "metadata": {},
   "outputs": [
    {
     "name": "stdout",
     "output_type": "stream",
     "text": [
      "Amount of rows: 611018\n"
     ]
    }
   ],
   "source": [
    "total = 0\n",
    "\n",
    "# drop rows with null values\n",
    "for residential in residentials:\n",
    "    residential.dropna(subset=['energy_kWh'], inplace=True)\n",
    "    total += len(residential)\n",
    "    \n",
    "print(\"Amount of rows: \" + str(total))"
   ]
  },
  {
   "cell_type": "code",
   "execution_count": 10,
   "id": "17046cb1",
   "metadata": {},
   "outputs": [
    {
     "data": {
      "text/html": [
       "<div>\n",
       "<style scoped>\n",
       "    .dataframe tbody tr th:only-of-type {\n",
       "        vertical-align: middle;\n",
       "    }\n",
       "\n",
       "    .dataframe tbody tr th {\n",
       "        vertical-align: top;\n",
       "    }\n",
       "\n",
       "    .dataframe thead th {\n",
       "        text-align: right;\n",
       "    }\n",
       "</style>\n",
       "<table border=\"1\" class=\"dataframe\">\n",
       "  <thead>\n",
       "    <tr style=\"text-align: right;\">\n",
       "      <th></th>\n",
       "      <th>date</th>\n",
       "      <th>hour</th>\n",
       "      <th>energy_kWh</th>\n",
       "      <th>Time</th>\n",
       "    </tr>\n",
       "  </thead>\n",
       "  <tbody>\n",
       "    <tr>\n",
       "      <th>0</th>\n",
       "      <td>2015-05-01</td>\n",
       "      <td>0</td>\n",
       "      <td>0.35</td>\n",
       "      <td>00:00:00</td>\n",
       "    </tr>\n",
       "    <tr>\n",
       "      <th>1</th>\n",
       "      <td>2015-05-01</td>\n",
       "      <td>1</td>\n",
       "      <td>0.32</td>\n",
       "      <td>01:00:00</td>\n",
       "    </tr>\n",
       "    <tr>\n",
       "      <th>2</th>\n",
       "      <td>2015-05-01</td>\n",
       "      <td>2</td>\n",
       "      <td>0.31</td>\n",
       "      <td>02:00:00</td>\n",
       "    </tr>\n",
       "    <tr>\n",
       "      <th>3</th>\n",
       "      <td>2015-05-01</td>\n",
       "      <td>3</td>\n",
       "      <td>0.33</td>\n",
       "      <td>03:00:00</td>\n",
       "    </tr>\n",
       "    <tr>\n",
       "      <th>4</th>\n",
       "      <td>2015-05-01</td>\n",
       "      <td>4</td>\n",
       "      <td>0.30</td>\n",
       "      <td>04:00:00</td>\n",
       "    </tr>\n",
       "  </tbody>\n",
       "</table>\n",
       "</div>"
      ],
      "text/plain": [
       "        date  hour  energy_kWh      Time\n",
       "0 2015-05-01     0        0.35  00:00:00\n",
       "1 2015-05-01     1        0.32  01:00:00\n",
       "2 2015-05-01     2        0.31  02:00:00\n",
       "3 2015-05-01     3        0.33  03:00:00\n",
       "4 2015-05-01     4        0.30  04:00:00"
      ]
     },
     "execution_count": 10,
     "metadata": {},
     "output_type": "execute_result"
    }
   ],
   "source": [
    "# convert hour int to timestamp\n",
    "for residential in residentials:\n",
    "    res = pd.to_datetime(residential['hour'], format='%H')\n",
    "    residential['Time'] = res.dt.time\n",
    "    \n",
    "residentials[0].head()"
   ]
  },
  {
   "cell_type": "code",
   "execution_count": 15,
   "id": "49aa0844",
   "metadata": {},
   "outputs": [
    {
     "data": {
      "text/html": [
       "<div>\n",
       "<style scoped>\n",
       "    .dataframe tbody tr th:only-of-type {\n",
       "        vertical-align: middle;\n",
       "    }\n",
       "\n",
       "    .dataframe tbody tr th {\n",
       "        vertical-align: top;\n",
       "    }\n",
       "\n",
       "    .dataframe thead th {\n",
       "        text-align: right;\n",
       "    }\n",
       "</style>\n",
       "<table border=\"1\" class=\"dataframe\">\n",
       "  <thead>\n",
       "    <tr style=\"text-align: right;\">\n",
       "      <th></th>\n",
       "      <th>date</th>\n",
       "      <th>hour</th>\n",
       "      <th>energy_kWh</th>\n",
       "      <th>Time</th>\n",
       "      <th>Latitude</th>\n",
       "      <th>Longitude</th>\n",
       "    </tr>\n",
       "  </thead>\n",
       "  <tbody>\n",
       "    <tr>\n",
       "      <th>0</th>\n",
       "      <td>2015-05-01</td>\n",
       "      <td>0</td>\n",
       "      <td>0.35</td>\n",
       "      <td>00:00:00</td>\n",
       "      <td>49.908195</td>\n",
       "      <td>-122.707454</td>\n",
       "    </tr>\n",
       "    <tr>\n",
       "      <th>1</th>\n",
       "      <td>2015-05-01</td>\n",
       "      <td>1</td>\n",
       "      <td>0.32</td>\n",
       "      <td>01:00:00</td>\n",
       "      <td>49.908195</td>\n",
       "      <td>-122.707454</td>\n",
       "    </tr>\n",
       "    <tr>\n",
       "      <th>2</th>\n",
       "      <td>2015-05-01</td>\n",
       "      <td>2</td>\n",
       "      <td>0.31</td>\n",
       "      <td>02:00:00</td>\n",
       "      <td>49.908195</td>\n",
       "      <td>-122.707454</td>\n",
       "    </tr>\n",
       "    <tr>\n",
       "      <th>3</th>\n",
       "      <td>2015-05-01</td>\n",
       "      <td>3</td>\n",
       "      <td>0.33</td>\n",
       "      <td>03:00:00</td>\n",
       "      <td>49.908195</td>\n",
       "      <td>-122.707454</td>\n",
       "    </tr>\n",
       "    <tr>\n",
       "      <th>4</th>\n",
       "      <td>2015-05-01</td>\n",
       "      <td>4</td>\n",
       "      <td>0.30</td>\n",
       "      <td>04:00:00</td>\n",
       "      <td>49.908195</td>\n",
       "      <td>-122.707454</td>\n",
       "    </tr>\n",
       "  </tbody>\n",
       "</table>\n",
       "</div>"
      ],
      "text/plain": [
       "        date  hour  energy_kWh      Time   Latitude   Longitude\n",
       "0 2015-05-01     0        0.35  00:00:00  49.908195 -122.707454\n",
       "1 2015-05-01     1        0.32  01:00:00  49.908195 -122.707454\n",
       "2 2015-05-01     2        0.31  02:00:00  49.908195 -122.707454\n",
       "3 2015-05-01     3        0.33  03:00:00  49.908195 -122.707454\n",
       "4 2015-05-01     4        0.30  04:00:00  49.908195 -122.707454"
      ]
     },
     "execution_count": 15,
     "metadata": {},
     "output_type": "execute_result"
    }
   ],
   "source": [
    "import random\n",
    "\n",
    "# every household in Metro Vancouver area or Vancouver Island in British Columbia\n",
    "# latitude range: 48.943754, 50.339788\n",
    "# lonitude range: -122.119014, -126.587438\n",
    "\n",
    "for residential in residentials:\n",
    "    # add latitude and longitude column with random place in the area\n",
    "    residential[\"Latitude\"] = round(random.uniform(48.943754, 50.339788), 6)\n",
    "    residential[\"Longitude\"] = round(random.uniform(-122.119014, -126.587438), 6)\n",
    "\n",
    "residentials[0].head()"
   ]
  },
  {
   "cell_type": "code",
   "execution_count": 17,
   "id": "a3e051b3",
   "metadata": {
    "scrolled": true
   },
   "outputs": [
    {
     "data": {
      "text/html": [
       "<div>\n",
       "<style scoped>\n",
       "    .dataframe tbody tr th:only-of-type {\n",
       "        vertical-align: middle;\n",
       "    }\n",
       "\n",
       "    .dataframe tbody tr th {\n",
       "        vertical-align: top;\n",
       "    }\n",
       "\n",
       "    .dataframe thead th {\n",
       "        text-align: right;\n",
       "    }\n",
       "</style>\n",
       "<table border=\"1\" class=\"dataframe\">\n",
       "  <thead>\n",
       "    <tr style=\"text-align: right;\">\n",
       "      <th></th>\n",
       "      <th>Date</th>\n",
       "      <th>Time</th>\n",
       "      <th>Latitude</th>\n",
       "      <th>Longitude</th>\n",
       "      <th>House_or_apartment</th>\n",
       "      <th>Area_of_residence</th>\n",
       "      <th>House_is_isolated</th>\n",
       "      <th>Number_of_residents</th>\n",
       "      <th>Heating_type</th>\n",
       "      <th>Solar_panels</th>\n",
       "      <th>Global_active_power</th>\n",
       "    </tr>\n",
       "  </thead>\n",
       "  <tbody>\n",
       "    <tr>\n",
       "      <th>0</th>\n",
       "      <td>2015-05-01</td>\n",
       "      <td>00:00:00</td>\n",
       "      <td>49.908195</td>\n",
       "      <td>-122.707454</td>\n",
       "      <td>0</td>\n",
       "      <td>0</td>\n",
       "      <td>0</td>\n",
       "      <td>0</td>\n",
       "      <td>0</td>\n",
       "      <td>0</td>\n",
       "      <td>0.35</td>\n",
       "    </tr>\n",
       "    <tr>\n",
       "      <th>1</th>\n",
       "      <td>2015-05-01</td>\n",
       "      <td>01:00:00</td>\n",
       "      <td>49.908195</td>\n",
       "      <td>-122.707454</td>\n",
       "      <td>0</td>\n",
       "      <td>0</td>\n",
       "      <td>0</td>\n",
       "      <td>0</td>\n",
       "      <td>0</td>\n",
       "      <td>0</td>\n",
       "      <td>0.32</td>\n",
       "    </tr>\n",
       "    <tr>\n",
       "      <th>2</th>\n",
       "      <td>2015-05-01</td>\n",
       "      <td>02:00:00</td>\n",
       "      <td>49.908195</td>\n",
       "      <td>-122.707454</td>\n",
       "      <td>0</td>\n",
       "      <td>0</td>\n",
       "      <td>0</td>\n",
       "      <td>0</td>\n",
       "      <td>0</td>\n",
       "      <td>0</td>\n",
       "      <td>0.31</td>\n",
       "    </tr>\n",
       "    <tr>\n",
       "      <th>3</th>\n",
       "      <td>2015-05-01</td>\n",
       "      <td>03:00:00</td>\n",
       "      <td>49.908195</td>\n",
       "      <td>-122.707454</td>\n",
       "      <td>0</td>\n",
       "      <td>0</td>\n",
       "      <td>0</td>\n",
       "      <td>0</td>\n",
       "      <td>0</td>\n",
       "      <td>0</td>\n",
       "      <td>0.33</td>\n",
       "    </tr>\n",
       "    <tr>\n",
       "      <th>4</th>\n",
       "      <td>2015-05-01</td>\n",
       "      <td>04:00:00</td>\n",
       "      <td>49.908195</td>\n",
       "      <td>-122.707454</td>\n",
       "      <td>0</td>\n",
       "      <td>0</td>\n",
       "      <td>0</td>\n",
       "      <td>0</td>\n",
       "      <td>0</td>\n",
       "      <td>0</td>\n",
       "      <td>0.30</td>\n",
       "    </tr>\n",
       "  </tbody>\n",
       "</table>\n",
       "</div>"
      ],
      "text/plain": [
       "        Date      Time   Latitude   Longitude  House_or_apartment  \\\n",
       "0 2015-05-01  00:00:00  49.908195 -122.707454                   0   \n",
       "1 2015-05-01  01:00:00  49.908195 -122.707454                   0   \n",
       "2 2015-05-01  02:00:00  49.908195 -122.707454                   0   \n",
       "3 2015-05-01  03:00:00  49.908195 -122.707454                   0   \n",
       "4 2015-05-01  04:00:00  49.908195 -122.707454                   0   \n",
       "\n",
       "   Area_of_residence  House_is_isolated  Number_of_residents  Heating_type  \\\n",
       "0                  0                  0                    0             0   \n",
       "1                  0                  0                    0             0   \n",
       "2                  0                  0                    0             0   \n",
       "3                  0                  0                    0             0   \n",
       "4                  0                  0                    0             0   \n",
       "\n",
       "   Solar_panels  Global_active_power  \n",
       "0             0                 0.35  \n",
       "1             0                 0.32  \n",
       "2             0                 0.31  \n",
       "3             0                 0.33  \n",
       "4             0                 0.30  "
      ]
     },
     "execution_count": 17,
     "metadata": {},
     "output_type": "execute_result"
    }
   ],
   "source": [
    "# create new dataframe and reformat the data\n",
    "residentials_filtered = []\n",
    "\n",
    "for residential in residentials:\n",
    "    residential.rename(columns={'date':'Date', 'energy_kWh':'Global_active_power'}, inplace=True)\n",
    "\n",
    "    res_filtered = residential[['Date', 'Time', 'Latitude', 'Longitude', 'Global_active_power']]\n",
    "\n",
    "    res_filtered.insert(4,'House_or_apartment', 0) # 0 house, 1 apartment\n",
    "    res_filtered.insert(5,'Area_of_residence', 0) # to be inserted in meters squared\n",
    "    res_filtered.insert(6,'House_is_isolated', 0) # 0 no, 1 yes\n",
    "    res_filtered.insert(7,'Number_of_residents', 0) # to be an unsigned number\n",
    "    res_filtered.insert(8,'Heating_type', 0) # 0 electrical, 1 gas\n",
    "    res_filtered.insert(9,'Solar_panels', 0) # 0 don't use, 1 use\n",
    "    residentials_filtered.append(res_filtered)\n",
    "\n",
    "residentials_filtered[0].head()"
   ]
  },
  {
   "cell_type": "code",
   "execution_count": 20,
   "id": "0e35d80d",
   "metadata": {},
   "outputs": [],
   "source": [
    "df = pd.concat(residentials_filtered)\n",
    "df.to_csv('./household_power_consumption/residentials_filtered.csv')"
   ]
  }
 ],
 "metadata": {
  "kernelspec": {
   "display_name": "Python 3 (ipykernel)",
   "language": "python",
   "name": "python3"
  },
  "language_info": {
   "codemirror_mode": {
    "name": "ipython",
    "version": 3
   },
   "file_extension": ".py",
   "mimetype": "text/x-python",
   "name": "python",
   "nbconvert_exporter": "python",
   "pygments_lexer": "ipython3",
   "version": "3.9.11"
  }
 },
 "nbformat": 4,
 "nbformat_minor": 5
}
