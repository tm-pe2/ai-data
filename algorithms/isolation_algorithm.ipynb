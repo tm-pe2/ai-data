{
 "cells": [
  {
   "cell_type": "markdown",
   "id": "85d5d4c9",
   "metadata": {},
   "source": [
    "# Algorithms to generate synthetic for House Isolation and Number of Habitants\n",
    "## Based on the Statistics of Belgium (Barometer 2020):\n",
    "### [House Isolation](https://www.isowill.be/sites/default/files/downloads/Recticel_Isolatiebarometer2020.pdf)"
   ]
  },
  {
   "cell_type": "code",
   "execution_count": 3,
   "id": "278293b7",
   "metadata": {},
   "outputs": [
    {
     "name": "stdout",
     "output_type": "stream",
     "text": [
      "Available Themes: \r\n",
      "   chesterish\r\n",
      "   grade3\r\n",
      "   gruvboxd\r\n",
      "   gruvboxl\r\n",
      "   monokai\r\n",
      "   oceans16\r\n",
      "   onedork\r\n",
      "   solarizedd\r\n",
      "   solarizedl\r\n"
     ]
    }
   ],
   "source": [
    "!jt -l"
   ]
  },
  {
   "cell_type": "code",
   "execution_count": 13,
   "id": "39d5e9e3",
   "metadata": {},
   "outputs": [],
   "source": [
    "!jt -t onedork -fs 95 -altp -tfs 11 -nfs 115 -cellw 88% -T"
   ]
  },
  {
   "cell_type": "code",
   "execution_count": 17,
   "id": "01a78af2",
   "metadata": {},
   "outputs": [
    {
     "name": "stdout",
     "output_type": "stream",
     "text": [
      "usage: jt [-h] [-l] [-t THEME] [-f MONOFONT] [-fs MONOSIZE] [-nf NBFONT]\r\n",
      "          [-nfs NBFONTSIZE] [-tf TCFONT] [-tfs TCFONTSIZE] [-dfs DFFONTSIZE]\r\n",
      "          [-ofs OUTFONTSIZE] [-mathfs MATHFONTSIZE] [-m MARGINS]\r\n",
      "          [-cursw CURSORWIDTH] [-cursc CURSORCOLOR] [-cellw CELLWIDTH]\r\n",
      "          [-lineh LINEHEIGHT] [-altp] [-altmd] [-altout] [-P] [-T] [-N] [-kl]\r\n",
      "          [-vim] [-r] [-dfonts]\r\n",
      "\r\n",
      "options:\r\n",
      "  -h, --help            show this help message and exit\r\n",
      "  -l, --list            list available themes\r\n",
      "  -t THEME, --theme THEME\r\n",
      "                        theme name to install\r\n",
      "  -f MONOFONT, --monofont MONOFONT\r\n",
      "                        monospace code font\r\n",
      "  -fs MONOSIZE, --monosize MONOSIZE\r\n",
      "                        code font-size\r\n",
      "  -nf NBFONT, --nbfont NBFONT\r\n",
      "                        notebook font\r\n",
      "  -nfs NBFONTSIZE, --nbfontsize NBFONTSIZE\r\n",
      "                        notebook fontsize\r\n",
      "  -tf TCFONT, --tcfont TCFONT\r\n",
      "                        txtcell font\r\n",
      "  -tfs TCFONTSIZE, --tcfontsize TCFONTSIZE\r\n",
      "                        txtcell fontsize\r\n",
      "  -dfs DFFONTSIZE, --dffontsize DFFONTSIZE\r\n",
      "                        pandas dataframe fontsize\r\n",
      "  -ofs OUTFONTSIZE, --outfontsize OUTFONTSIZE\r\n",
      "                        output area fontsize\r\n",
      "  -mathfs MATHFONTSIZE, --mathfontsize MATHFONTSIZE\r\n",
      "                        mathjax fontsize (in %)\r\n",
      "  -m MARGINS, --margins MARGINS\r\n",
      "                        fix margins of main intro page\r\n",
      "  -cursw CURSORWIDTH, --cursorwidth CURSORWIDTH\r\n",
      "                        set cursorwidth (px)\r\n",
      "  -cursc CURSORCOLOR, --cursorcolor CURSORCOLOR\r\n",
      "                        cursor color (r, b, g, p)\r\n",
      "  -cellw CELLWIDTH, --cellwidth CELLWIDTH\r\n",
      "                        set cell width (px or %)\r\n",
      "  -lineh LINEHEIGHT, --lineheight LINEHEIGHT\r\n",
      "                        code/text line-height (%)\r\n",
      "  -altp, --altprompt    alt input prompt style\r\n",
      "  -altmd, --altmarkdown\r\n",
      "                        alt markdown cell style\r\n",
      "  -altout, --altoutput  set output bg color to notebook bg\r\n",
      "  -P, --hideprompt      hide cell input prompt\r\n",
      "  -T, --toolbar         make toolbar visible\r\n",
      "  -N, --nbname          nb name/logo visible\r\n",
      "  -kl, --kernellogo     kernel logo visible\r\n",
      "  -vim, --vimext        toggle styles for vim\r\n",
      "  -r, --reset           reset to default theme\r\n",
      "  -dfonts, --defaultfonts\r\n",
      "                        force fonts to browser default\r\n"
     ]
    }
   ],
   "source": [
    "!jt -h"
   ]
  }
 ],
 "metadata": {
  "kernelspec": {
   "display_name": "Python 3 (ipykernel)",
   "language": "python",
   "name": "python3"
  },
  "language_info": {
   "codemirror_mode": {
    "name": "ipython",
    "version": 3
   },
   "file_extension": ".py",
   "mimetype": "text/x-python",
   "name": "python",
   "nbconvert_exporter": "python",
   "pygments_lexer": "ipython3",
   "version": "3.10.2"
  }
 },
 "nbformat": 4,
 "nbformat_minor": 5
}
