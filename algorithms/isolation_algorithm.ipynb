{
 "cells": [
  {
   "cell_type": "markdown",
   "id": "85d5d4c9",
   "metadata": {},
   "source": [
    "# Algorithms to generate synthetic for House Isolation and Number of Habitants\n",
    "## Based on the Statistics of Belgium (Isolatie Barometer 2020):\n",
    "### [House Isolation](https://www.isowill.be/sites/default/files/downloads/Recticel_Isolatiebarometer2020.pdf)"
   ]
  },
  {
   "cell_type": "code",
   "execution_count": 63,
   "id": "278293b7",
   "metadata": {},
   "outputs": [],
   "source": [
    "#!jt -l"
   ]
  },
  {
   "cell_type": "code",
   "execution_count": 64,
   "id": "39d5e9e3",
   "metadata": {},
   "outputs": [],
   "source": [
    "!jt -t onedork -fs 95 -altp -tfs 11 -nfs 115 -cellw 88% -T"
   ]
  },
  {
   "cell_type": "code",
   "execution_count": 65,
   "id": "01a78af2",
   "metadata": {},
   "outputs": [],
   "source": [
    "import numpy as np\n",
    "from numpy.random import choice"
   ]
  },
  {
   "cell_type": "code",
   "execution_count": 66,
   "id": "c9a68b08",
   "metadata": {},
   "outputs": [],
   "source": [
    "# Three types of isolation [dak, muur, vloer] \n",
    "# Below the probability of a household to have that type of isolation (Barometer 2020 BE)\n",
    "pvlaams_isolation=[86.5, 57.8, 39.1]\n",
    "pwaals_isolation=[63.9, 15.6, 15]\n",
    "pbrussels_isolation=[87.7, 33.9, 34.9]\n",
    "# Number of isolation types = noit\n",
    "noit=len(pvlaams_isolation)\n",
    "# Possible output [0,1] isIsolated? 0 (no), 1 (yes)\n",
    "is_isolated=[0,1]"
   ]
  },
  {
   "cell_type": "code",
   "execution_count": 67,
   "id": "97af737d",
   "metadata": {},
   "outputs": [],
   "source": [
    "# test the weighted random generator\n",
    "# vlaams_output = choice(is_isolated, 100, p=[1-vlaams_isolation[0]/100,vlaams_isolation[0]/100])\n",
    "# print(vlaams_output)\n",
    "# np.count_nonzero(vlaams_output)"
   ]
  },
  {
   "cell_type": "markdown",
   "id": "02614bce",
   "metadata": {},
   "source": [
    "# Location list based on geolocation\n",
    "### Based on the population distribution in Belgium we distribute the customers also\n",
    "### Flanders: 58%, Wallonia: 32%, Brussels: 10%"
   ]
  },
  {
   "cell_type": "code",
   "execution_count": 68,
   "id": "b0117c6d",
   "metadata": {},
   "outputs": [],
   "source": [
    "# If the total number of customers is 10 000 (Only Belgium considered)\n",
    "# Distribution to be chosen based on the most reasonable example one would like to describe\n",
    "number_customers_flanders=580\n",
    "number_customers_wallonia=320\n",
    "number_customers_brussels=100"
   ]
  },
  {
   "cell_type": "code",
   "execution_count": 69,
   "id": "fdbab374",
   "metadata": {},
   "outputs": [],
   "source": [
    "#flanders_isolation=[roof_array,walls_array,floor_array]\n",
    "flanders_isolation=[[],[],[]]\n",
    "wallonia_isolation=[[],[],[]]\n",
    "brussels_isolation=[[],[],[]]\n",
    "for i in range(noit):\n",
    "    flanders_isolation[i]=choice(is_isolated, number_customers_flanders, p=[1-pvlaams_isolation[i]/100,pvlaams_isolation[i]/100])\n",
    "    wallonia_isolation[i]=choice(is_isolated, number_customers_wallonia, p=[1-pwaals_isolation[i]/100,pwaals_isolation[i]/100])\n",
    "    brussels_isolation[i]=choice(is_isolated, number_customers_brussels, p=[1-pbrussels_isolation[i]/100,pbrussels_isolation[i]/100])"
   ]
  },
  {
   "cell_type": "code",
   "execution_count": 72,
   "id": "fb7219a4",
   "metadata": {
    "scrolled": true
   },
   "outputs": [
    {
     "name": "stdout",
     "output_type": "stream",
     "text": [
      "Generated Output from Flanders\n",
      "488 350 229\n",
      "[501.7  335.24 226.78]\n",
      "Generated Output from Wallonia\n",
      "192 49 55\n",
      "[204.48  49.92  48.  ]\n",
      "Generated Output from Brussels\n",
      "84 32 35\n",
      "[87.7 33.9 34.9]\n"
     ]
    }
   ],
   "source": [
    "# Output check\n",
    "print(\"Generated Output from Flanders\")\n",
    "print(np.count_nonzero(flanders_isolation[0]), np.count_nonzero(flanders_isolation[1]), np.count_nonzero(flanders_isolation[2]))\n",
    "print(np.multiply(pvlaams_isolation,number_customers_flanders/100))\n",
    "print(\"Generated Output from Wallonia\")\n",
    "print(np.count_nonzero(wallonia_isolation[0]), np.count_nonzero(wallonia_isolation[1]), np.count_nonzero(wallonia_isolation[2]))\n",
    "print(np.multiply(pwaals_isolation,number_customers_wallonia/100))\n",
    "print(\"Generated Output from Brussels\")\n",
    "print(np.count_nonzero(brussels_isolation[0]), np.count_nonzero(brussels_isolation[1]), np.count_nonzero(brussels_isolation[2]))\n",
    "print(np.multiply(pbrussels_isolation,number_customers_brussels/100))"
   ]
  }
 ],
 "metadata": {
  "kernelspec": {
   "display_name": "Python 3 (ipykernel)",
   "language": "python",
   "name": "python3"
  },
  "language_info": {
   "codemirror_mode": {
    "name": "ipython",
    "version": 3
   },
   "file_extension": ".py",
   "mimetype": "text/x-python",
   "name": "python",
   "nbconvert_exporter": "python",
   "pygments_lexer": "ipython3",
   "version": "3.10.2"
  }
 },
 "nbformat": 4,
 "nbformat_minor": 5
}
