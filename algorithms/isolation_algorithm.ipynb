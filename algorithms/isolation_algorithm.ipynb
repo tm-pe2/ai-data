{
 "cells": [
  {
   "cell_type": "markdown",
   "id": "85d5d4c9",
   "metadata": {},
   "source": [
    "# Algorithms to generate synthetic for House Isolation and Number of Habitants\n",
    "## Based on the Statistics of Belgium (Barometer 2020):\n",
    "### [House Isolation](https://www.isowill.be/sites/default/files/downloads/Recticel_Isolatiebarometer2020.pdf)"
   ]
  },
  {
   "cell_type": "code",
   "execution_count": 4,
   "id": "278293b7",
   "metadata": {},
   "outputs": [],
   "source": [
    "#!jt -l"
   ]
  },
  {
   "cell_type": "code",
   "execution_count": 5,
   "id": "39d5e9e3",
   "metadata": {},
   "outputs": [],
   "source": [
    "!jt -t onedork -fs 95 -altp -tfs 11 -nfs 115 -cellw 88% -T"
   ]
  },
  {
   "cell_type": "code",
   "execution_count": 6,
   "id": "01a78af2",
   "metadata": {},
   "outputs": [],
   "source": [
    "import numpy as np"
   ]
  },
  {
   "cell_type": "code",
   "execution_count": 7,
   "id": "c9a68b08",
   "metadata": {},
   "outputs": [],
   "source": [
    "# Three types of isolation (dak, muur, vloer)\n",
    "vlaams_isolation=np.array([86.5, 57.8, 39.1])\n",
    "waals_isolation=np.array([63.9, 15.6, 15])\n",
    "brussels_isolation=np.array([87.7, 33.9, 34.9])"
   ]
  }
 ],
 "metadata": {
  "kernelspec": {
   "display_name": "Python 3 (ipykernel)",
   "language": "python",
   "name": "python3"
  },
  "language_info": {
   "codemirror_mode": {
    "name": "ipython",
    "version": 3
   },
   "file_extension": ".py",
   "mimetype": "text/x-python",
   "name": "python",
   "nbconvert_exporter": "python",
   "pygments_lexer": "ipython3",
   "version": "3.10.2"
  }
 },
 "nbformat": 4,
 "nbformat_minor": 5
}
